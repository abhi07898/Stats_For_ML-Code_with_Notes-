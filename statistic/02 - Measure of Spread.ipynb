{
 "cells": [
  {
   "cell_type": "markdown",
   "metadata": {},
   "source": [
    "Range\n",
    "Quartile\n",
    "varience \n",
    "standard deviation "
   ]
  },
  {
   "cell_type": "code",
   "execution_count": 1,
   "metadata": {},
   "outputs": [],
   "source": [
    "import numpy as np"
   ]
  },
  {
   "cell_type": "code",
   "execution_count": 3,
   "metadata": {},
   "outputs": [
    {
     "data": {
      "text/plain": [
       "array([ 0.27215758, -0.12414098,  0.47037072, -0.83250359,  0.43002195,\n",
       "        1.40988278, -0.3741888 ,  1.06683678,  0.41310966])"
      ]
     },
     "execution_count": 3,
     "metadata": {},
     "output_type": "execute_result"
    }
   ],
   "source": [
    "n = np.random.randn(9)\n",
    "n"
   ]
  },
  {
   "cell_type": "markdown",
   "metadata": {},
   "source": [
    "# Range"
   ]
  },
  {
   "cell_type": "code",
   "execution_count": 5,
   "metadata": {},
   "outputs": [
    {
     "data": {
      "text/plain": [
       "2.2423863730875286"
      ]
     },
     "execution_count": 5,
     "metadata": {},
     "output_type": "execute_result"
    }
   ],
   "source": [
    "Range = np.max(n) - np.min(n)\n",
    "Range"
   ]
  },
  {
   "cell_type": "markdown",
   "metadata": {},
   "source": [
    "# Quartile "
   ]
  },
  {
   "cell_type": "code",
   "execution_count": 7,
   "metadata": {},
   "outputs": [],
   "source": [
    "Q1 = np.percentile(n,25)"
   ]
  },
  {
   "cell_type": "code",
   "execution_count": 8,
   "metadata": {},
   "outputs": [],
   "source": [
    "Q2 = np.percentile(n,50)\n"
   ]
  },
  {
   "cell_type": "code",
   "execution_count": 9,
   "metadata": {},
   "outputs": [],
   "source": [
    "Q3 = np.percentile(n,75)"
   ]
  },
  {
   "cell_type": "markdown",
   "metadata": {},
   "source": [
    "Interquartile Range\n",
    "\n",
    "IQR = Third quartile - First quartile"
   ]
  },
  {
   "cell_type": "raw",
   "metadata": {},
   "source": []
  },
  {
   "cell_type": "code",
   "execution_count": 12,
   "metadata": {},
   "outputs": [
    {
     "data": {
      "text/plain": [
       "0.0"
      ]
     },
     "execution_count": 12,
     "metadata": {},
     "output_type": "execute_result"
    }
   ],
   "source": [
    "IQR = Q3 - Q1\n",
    "IQR"
   ]
  },
  {
   "cell_type": "markdown",
   "metadata": {},
   "source": [
    "# Varience "
   ]
  },
  {
   "cell_type": "code",
   "execution_count": 13,
   "metadata": {},
   "outputs": [
    {
     "data": {
      "text/plain": [
       "array([ 1.50311945,  0.62981321, -0.33437274,  1.51180693,  0.97247455,\n",
       "       -0.98240278,  0.54719628, -0.04146552,  0.06311627,  0.72584158,\n",
       "        0.13653002, -2.44518355, -0.5350364 ,  0.90183593, -0.0333239 ,\n",
       "        0.02197341,  0.85581842,  0.86888063,  0.58394534, -0.94885571,\n",
       "       -1.38726396, -0.65496584, -1.50154158,  0.01598231, -0.25926053,\n",
       "       -0.40350091,  0.80936612, -1.16694565,  0.38446154, -0.21258682,\n",
       "       -0.91792504,  2.60644627,  1.60751149, -0.55965684, -0.77397013,\n",
       "       -1.49153877,  0.20438382, -0.77090145, -0.92917267,  1.49736015,\n",
       "        1.06382725,  0.49043285,  0.42338385,  0.24232002,  1.86639015,\n",
       "        0.89944945, -1.25184715, -1.5015341 , -1.85503037, -0.84601577,\n",
       "        1.32298324,  0.08030045, -0.34120909, -0.30624278, -0.09165187,\n",
       "        0.09069119, -1.23741529,  0.93711878, -0.95337979,  0.10046024,\n",
       "        1.60436841,  0.2412627 ,  1.58663265,  0.63510019,  0.9316221 ,\n",
       "        0.09788639, -1.82321672,  1.5086788 ,  1.14453673, -0.40755499,\n",
       "        0.20619183, -0.83228313,  0.81589212, -1.96691991, -1.68698602,\n",
       "       -1.25892994,  0.87730171, -1.91200756,  0.0812929 , -0.56900978,\n",
       "        0.54243005, -2.12666042, -0.03396281,  1.55389063,  0.48839113,\n",
       "       -1.00339657,  1.72687964,  2.14381563,  0.38883669,  1.51474784,\n",
       "       -0.09291237,  1.22800868, -0.5081907 , -0.93214779, -0.80640775,\n",
       "       -2.60935049,  0.43090995,  0.14466563,  1.4589189 ,  1.06114119])"
      ]
     },
     "execution_count": 13,
     "metadata": {},
     "output_type": "execute_result"
    }
   ],
   "source": [
    "population = np.random.randn(100)\n",
    "population"
   ]
  },
  {
   "cell_type": "code",
   "execution_count": 14,
   "metadata": {},
   "outputs": [
    {
     "data": {
      "text/plain": [
       "array([ 0.54243005, -0.30624278,  0.09069119,  0.48839113,  1.06382725,\n",
       "        0.10046024, -0.0333239 , -0.04146552,  0.80936612, -0.09165187,\n",
       "        0.90183593, -0.93214779,  0.93711878,  0.93711878,  1.86639015,\n",
       "        1.06382725, -0.09291237,  0.89944945,  0.06311627, -0.09165187])"
      ]
     },
     "execution_count": 14,
     "metadata": {},
     "output_type": "execute_result"
    }
   ],
   "source": [
    "sample = np.random.choice(population, 20)\n",
    "sample"
   ]
  },
  {
   "cell_type": "code",
   "execution_count": 15,
   "metadata": {},
   "outputs": [
    {
     "data": {
      "text/plain": [
       "1.208978716226923"
      ]
     },
     "execution_count": 15,
     "metadata": {},
     "output_type": "execute_result"
    }
   ],
   "source": [
    "np.var(population)"
   ]
  },
  {
   "cell_type": "code",
   "execution_count": 16,
   "metadata": {},
   "outputs": [
    {
     "data": {
      "text/plain": [
       "0.3992710572331183"
      ]
     },
     "execution_count": 16,
     "metadata": {},
     "output_type": "execute_result"
    }
   ],
   "source": [
    "np.var(sample)"
   ]
  },
  {
   "cell_type": "markdown",
   "metadata": {},
   "source": [
    "# Standard Deviation "
   ]
  },
  {
   "cell_type": "code",
   "execution_count": 17,
   "metadata": {},
   "outputs": [
    {
     "data": {
      "text/plain": [
       "1.0995356821071898"
      ]
     },
     "execution_count": 17,
     "metadata": {},
     "output_type": "execute_result"
    }
   ],
   "source": [
    "np.std(population)"
   ]
  },
  {
   "cell_type": "code",
   "execution_count": 18,
   "metadata": {},
   "outputs": [
    {
     "data": {
      "text/plain": [
       "0.6318789893904673"
      ]
     },
     "execution_count": 18,
     "metadata": {},
     "output_type": "execute_result"
    }
   ],
   "source": [
    "np.std(sample)"
   ]
  },
  {
   "cell_type": "code",
   "execution_count": null,
   "metadata": {},
   "outputs": [],
   "source": []
  }
 ],
 "metadata": {
  "kernelspec": {
   "display_name": "Python 3",
   "language": "python",
   "name": "python3"
  },
  "language_info": {
   "codemirror_mode": {
    "name": "ipython",
    "version": 3
   },
   "file_extension": ".py",
   "mimetype": "text/x-python",
   "name": "python",
   "nbconvert_exporter": "python",
   "pygments_lexer": "ipython3",
   "version": "3.6.6"
  }
 },
 "nbformat": 4,
 "nbformat_minor": 4
}
