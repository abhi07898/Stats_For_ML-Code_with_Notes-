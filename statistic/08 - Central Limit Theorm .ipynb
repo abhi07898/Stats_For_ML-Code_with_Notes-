{
 "cells": [
  {
   "cell_type": "code",
   "execution_count": 1,
   "metadata": {},
   "outputs": [],
   "source": [
    "import numpy as np\n",
    "import matplotlib.pyplot as plt\n",
    "import seaborn as sns\n",
    "%matplotlib inline"
   ]
  },
  {
   "cell_type": "code",
   "execution_count": 2,
   "metadata": {},
   "outputs": [],
   "source": [
    "population = np.random.binomial(10,.4,10000)  #binomial distribution"
   ]
  },
  {
   "cell_type": "code",
   "execution_count": 3,
   "metadata": {},
   "outputs": [
    {
     "data": {
      "text/plain": [
       "array([7, 5, 4, ..., 5, 4, 5])"
      ]
     },
     "execution_count": 3,
     "metadata": {},
     "output_type": "execute_result"
    }
   ],
   "source": [
    "population"
   ]
  },
  {
   "cell_type": "code",
   "execution_count": 4,
   "metadata": {},
   "outputs": [],
   "source": [
    "sample_means = []\n",
    "for x in range(1,21):\n",
    "    sample = np.random.choice(population, size = int(.30 * len(population)), replace=False)\n",
    "    sample_means.append(np.mean(sample))"
   ]
  },
  {
   "cell_type": "code",
   "execution_count": 5,
   "metadata": {},
   "outputs": [
    {
     "name": "stdout",
     "output_type": "stream",
     "text": [
      "Mean of Sample means3.9793499999999993\n",
      "Mean of population3.9819\n"
     ]
    }
   ],
   "source": [
    "#calcualtion of sampke mean and population mean \n",
    "\n",
    "mean_of_sample_means = np.mean(sample_means)\n",
    "population_mean = np.mean(population)\n",
    "\n",
    "print(f'Mean of Sample means{mean_of_sample_means}')\n",
    "print(f'Mean of population{population_mean}')"
   ]
  },
  {
   "cell_type": "code",
   "execution_count": 8,
   "metadata": {},
   "outputs": [
    {
     "data": {
      "image/png": "[encoded data removed]",
      "text/plain": [
       "<Figure size 432x288 with 1 Axes>"
      ]
     },
     "metadata": {
      "needs_background": "light"
     },
     "output_type": "display_data"
    }
   ],
   "source": [
    "ax = sns.distplot(sample_means,\n",
    "                 kde=True,\n",
    "                 color ='orange',\n",
    "                 hist_kws={'linewidth':15, 'alpha':1})"
   ]
  },
  {
   "cell_type": "code",
   "execution_count": 10,
   "metadata": {
    "scrolled": true
   },
   "outputs": [
    {
     "data": {
      "image/png": "[encoded data removed]",
      "text/plain": [
       "<Figure size 432x288 with 1 Axes>"
      ]
     },
     "metadata": {
      "needs_background": "light"
     },
     "output_type": "display_data"
    }
   ],
   "source": [
    "sample_means = []\n",
    "for x in range(1,100):\n",
    "    sample = np.random.choice(population, size = int(.30 * len(population)), replace=False)\n",
    "    sample_means.append(np.mean(sample))\n",
    "ax = sns.distplot(sample_means,\n",
    "                 kde=True,\n",
    "                 color ='orange',\n",
    "                 hist_kws={'linewidth':15, 'alpha':1})"
   ]
  },
  {
   "cell_type": "code",
   "execution_count": 11,
   "metadata": {},
   "outputs": [
    {
     "data": {
      "image/png": "[encoded data removed]",
      "text/plain": [
       "<Figure size 432x288 with 1 Axes>"
      ]
     },
     "metadata": {
      "needs_background": "light"
     },
     "output_type": "display_data"
    }
   ],
   "source": [
    "sample_means = []\n",
    "for x in range(1,10000):  #larger sample size\n",
    "    sample = np.random.choice(population, size = int(.30 * len(population)), replace=False)\n",
    "    sample_means.append(np.mean(sample))\n",
    "ax = sns.distplot(sample_means,\n",
    "                 kde=True,\n",
    "                 color ='orange',\n",
    "                 hist_kws={'linewidth':15, 'alpha':1})"
   ]
  },
  {
   "cell_type": "code",
   "execution_count": 9,
   "metadata": {},
   "outputs": [
    {
     "name": "stderr",
     "output_type": "stream",
     "text": [
      "c:\\users\\lenovo\\appdata\\local\\programs\\python\\python36\\lib\\site-packages\\ipykernel_launcher.py:1: MatplotlibDeprecationWarning: \n",
      "The 'normed' kwarg was deprecated in Matplotlib 2.1 and will be removed in 3.1. Use 'density' instead.\n",
      "  \"\"\"Entry point for launching an IPython kernel.\n"
     ]
    },
    {
     "data": {
      "text/plain": [
       "(array([46.875,  0.   ,  0.   ,  0.   ,  0.   ,  0.   ,  0.   ,  0.   ,\n",
       "         0.   ,  0.   ,  0.   ,  0.   ,  0.   ,  0.   ,  0.   ,  0.   ,\n",
       "         0.   ,  0.   ,  0.   ,  0.   ,  0.   ,  0.   ,  0.   ,  0.   ,\n",
       "         0.   ,  0.   ,  0.   ,  0.   ,  0.   ,  0.   ,  0.   ,  0.   ,\n",
       "         0.   , 46.875,  0.   ,  0.   ,  0.   ,  0.   , 46.875, 46.875,\n",
       "         0.   , 46.875,  0.   ,  0.   , 46.875, 46.875,  0.   ,  0.   ,\n",
       "         0.   , 46.875, 46.875,  0.   ,  0.   ,  0.   , 46.875,  0.   ,\n",
       "         0.   ,  0.   ,  0.   , 46.875,  0.   , 46.875,  0.   ,  0.   ,\n",
       "         0.   ,  0.   , 46.875, 46.875, 46.875,  0.   ,  0.   ,  0.   ,\n",
       "        46.875,  0.   ,  0.   , 46.875,  0.   ,  0.   ,  0.   ,  0.   ,\n",
       "        46.875,  0.   ,  0.   ,  0.   ,  0.   ,  0.   ,  0.   , 46.875,\n",
       "         0.   ,  0.   ,  0.   ,  0.   ,  0.   ,  0.   ,  0.   ,  0.   ,\n",
       "         0.   ,  0.   ,  0.   , 46.875]),\n",
       " array([3.91866667, 3.91973333, 3.9208    , 3.92186667, 3.92293333,\n",
       "        3.924     , 3.92506667, 3.92613333, 3.9272    , 3.92826667,\n",
       "        3.92933333, 3.9304    , 3.93146667, 3.93253333, 3.9336    ,\n",
       "        3.93466667, 3.93573333, 3.9368    , 3.93786667, 3.93893333,\n",
       "        3.94      , 3.94106667, 3.94213333, 3.9432    , 3.94426667,\n",
       "        3.94533333, 3.9464    , 3.94746667, 3.94853333, 3.9496    ,\n",
       "        3.95066667, 3.95173333, 3.9528    , 3.95386667, 3.95493333,\n",
       "        3.956     , 3.95706667, 3.95813333, 3.9592    , 3.96026667,\n",
       "        3.96133333, 3.9624    , 3.96346667, 3.96453333, 3.9656    ,\n",
       "        3.96666667, 3.96773333, 3.9688    , 3.96986667, 3.97093333,\n",
       "        3.972     , 3.97306667, 3.97413333, 3.9752    , 3.97626667,\n",
       "        3.97733333, 3.9784    , 3.97946667, 3.98053333, 3.9816    ,\n",
       "        3.98266667, 3.98373333, 3.9848    , 3.98586667, 3.98693333,\n",
       "        3.988     , 3.98906667, 3.99013333, 3.9912    , 3.99226667,\n",
       "        3.99333333, 3.9944    , 3.99546667, 3.99653333, 3.9976    ,\n",
       "        3.99866667, 3.99973333, 4.0008    , 4.00186667, 4.00293333,\n",
       "        4.004     , 4.00506667, 4.00613333, 4.0072    , 4.00826667,\n",
       "        4.00933333, 4.0104    , 4.01146667, 4.01253333, 4.0136    ,\n",
       "        4.01466667, 4.01573333, 4.0168    , 4.01786667, 4.01893333,\n",
       "        4.02      , 4.02106667, 4.02213333, 4.0232    , 4.02426667,\n",
       "        4.02533333]),\n",
       " <a list of 100 Patch objects>)"
      ]
     },
     "execution_count": 9,
     "metadata": {},
     "output_type": "execute_result"
    },
    {
     "data": {
      "image/png": "[encoded data removed]",
      "text/plain": [
       "<Figure size 432x288 with 1 Axes>"
      ]
     },
     "metadata": {
      "needs_background": "light"
     },
     "output_type": "display_data"
    }
   ],
   "source": [
    "plt.hist(sample_means, 100, normed=True)"
   ]
  },
  {
   "cell_type": "code",
   "execution_count": null,
   "metadata": {},
   "outputs": [],
   "source": []
  }
 ],
 "metadata": {
  "kernelspec": {
   "display_name": "Python 3",
   "language": "python",
   "name": "python3"
  },
  "language_info": {
   "codemirror_mode": {
    "name": "ipython",
    "version": 3
   },
   "file_extension": ".py",
   "mimetype": "text/x-python",
   "name": "python",
   "nbconvert_exporter": "python",
   "pygments_lexer": "ipython3",
   "version": "3.6.6"
  }
 },
 "nbformat": 4,
 "nbformat_minor": 4
}
