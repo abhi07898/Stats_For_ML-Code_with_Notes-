{
 "cells": [
  {
   "cell_type": "code",
   "execution_count": 1,
   "metadata": {},
   "outputs": [],
   "source": [
    "import statistics as stats"
   ]
  },
  {
   "cell_type": "code",
   "execution_count": 2,
   "metadata": {},
   "outputs": [],
   "source": [
    "x = [1,2,3,4,5,6,7,8,9]\n",
    "y = [2,1,2,4.5,7,6.5,6,9,9.5]"
   ]
  },
  {
   "cell_type": "code",
   "execution_count": 3,
   "metadata": {},
   "outputs": [],
   "source": [
    "def pearson(x,y):\n",
    "    n=len(x)\n",
    "    \n",
    "    standard_score_x = []\n",
    "    standard_score_y = []\n",
    "    \n",
    "    mean_x = stats.mean(x)    \n",
    "    standard_deviation_x = stats.stdev(x)\n",
    "    \n",
    "    mean_y = stats.mean(y)\n",
    "    standard_deviation_y = stats.stdev(y)\n",
    "    \n",
    "    for observation in x:\n",
    "        standard_score_x.append((observation-mean_x/standard_deviation_x))\n",
    "    \n",
    "    for observation in y:\n",
    "        standard_score_y.append((observation - mean_y)/standard_deviation_y)\n",
    "        \n",
    "    return (sum([i*j for i,j in zip(standard_score_x,standard_score_y)]))/(n-1)"
   ]
  },
  {
   "cell_type": "code",
   "execution_count": 4,
   "metadata": {},
   "outputs": [
    {
     "data": {
      "text/plain": [
       "2.577703744997063"
      ]
     },
     "execution_count": 4,
     "metadata": {},
     "output_type": "execute_result"
    }
   ],
   "source": [
    "pearson(x,y)"
   ]
  },
  {
   "cell_type": "code",
   "execution_count": null,
   "metadata": {},
   "outputs": [],
   "source": []
  }
 ],
 "metadata": {
  "kernelspec": {
   "display_name": "Python 3",
   "language": "python",
   "name": "python3"
  },
  "language_info": {
   "codemirror_mode": {
    "name": "ipython",
    "version": 3
   },
   "file_extension": ".py",
   "mimetype": "text/x-python",
   "name": "python",
   "nbconvert_exporter": "python",
   "pygments_lexer": "ipython3",
   "version": "3.6.6"
  }
 },
 "nbformat": 4,
 "nbformat_minor": 4
}
