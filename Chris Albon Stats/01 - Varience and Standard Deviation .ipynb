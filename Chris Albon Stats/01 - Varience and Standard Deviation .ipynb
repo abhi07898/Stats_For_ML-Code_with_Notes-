{
 "cells": [
  {
   "cell_type": "code",
   "execution_count": 1,
   "metadata": {},
   "outputs": [],
   "source": [
    "import math "
   ]
  },
  {
   "cell_type": "code",
   "execution_count": 2,
   "metadata": {},
   "outputs": [],
   "source": [
    "data = [3,2,3,4,2,3,5,2,2,33,3,5,2,2,5,6,62,2,2,3,6,6,2,23,3,2,3]"
   ]
  },
  {
   "cell_type": "code",
   "execution_count": 3,
   "metadata": {},
   "outputs": [
    {
     "data": {
      "text/plain": [
       "160.78463648834017"
      ]
     },
     "execution_count": 3,
     "metadata": {},
     "output_type": "execute_result"
    }
   ],
   "source": [
    "# Calculate n\n",
    "n = len(data)\n",
    "\n",
    "# Calculate the mean\n",
    "mean = sum(data)/len(data)\n",
    "\n",
    "# Create a list of all deviations from the mean\n",
    "all_deviations_from_mean_squared = []\n",
    "\n",
    "# For each observation in the data\n",
    "for observation in data:\n",
    "    \n",
    "    # Calculate the deviation from the mean\n",
    "    deviation_from_mean = (observation - mean)\n",
    "    \n",
    "    # Square it\n",
    "    deviation_from_mean_squared = deviation_from_mean**2\n",
    "    \n",
    "    # Add the result to our list\n",
    "    all_deviations_from_mean_squared.append(deviation_from_mean_squared)\n",
    "\n",
    "# Sum all the squared deviations in our list    \n",
    "sum_of_deviations_from_mean_squared = sum(all_deviations_from_mean_squared)\n",
    "\n",
    "# Divide by n\n",
    "population_variance = sum_of_deviations_from_mean_squared/n\n",
    "\n",
    "# Show variance\n",
    "population_variance   "
   ]
  },
  {
   "cell_type": "markdown",
   "metadata": {},
   "source": [
    "# Calculate Population Standrad Deviation "
   ]
  },
  {
   "cell_type": "code",
   "execution_count": 4,
   "metadata": {},
   "outputs": [
    {
     "data": {
      "text/plain": [
       "12.68008818929664"
      ]
     },
     "execution_count": 4,
     "metadata": {},
     "output_type": "execute_result"
    }
   ],
   "source": [
    "population_standard_deviation = math.sqrt(population_variance)\n",
    "\n",
    "population_standard_deviation"
   ]
  },
  {
   "cell_type": "code",
   "execution_count": null,
   "metadata": {},
   "outputs": [],
   "source": []
  }
 ],
 "metadata": {
  "kernelspec": {
   "display_name": "Python 3",
   "language": "python",
   "name": "python3"
  },
  "language_info": {
   "codemirror_mode": {
    "name": "ipython",
    "version": 3
   },
   "file_extension": ".py",
   "mimetype": "text/x-python",
   "name": "python",
   "nbconvert_exporter": "python",
   "pygments_lexer": "ipython3",
   "version": "3.6.6"
  }
 },
 "nbformat": 4,
 "nbformat_minor": 4
}
